{
 "cells": [
  {
   "cell_type": "code",
   "execution_count": 1,
   "id": "adjacent-minneapolis",
   "metadata": {},
   "outputs": [],
   "source": [
    "import numpy as np\n",
    "from sklearn.datasets import load_iris, load_boston\n",
    "from sklearn.model_selection import train_test_split\n",
    "from sklearn.linear_model import LogisticRegression\n",
    "from sklearn.linear_model import LinearRegression\n",
    "from skl2onnx import convert_sklearn\n",
    "from skl2onnx.common.data_types import FloatTensorType\n",
    "import sklearn"
   ]
  },
  {
   "cell_type": "code",
   "execution_count": 2,
   "id": "satisfied-numbers",
   "metadata": {
    "scrolled": true
   },
   "outputs": [],
   "source": [
    "import redisai as rai"
   ]
  },
  {
   "cell_type": "code",
   "execution_count": 3,
   "id": "blank-rotation",
   "metadata": {},
   "outputs": [],
   "source": [
    "con = rai.Client(host='localhost', port=6379)"
   ]
  },
  {
   "cell_type": "code",
   "execution_count": 10,
   "id": "refined-grade",
   "metadata": {},
   "outputs": [],
   "source": [
    "iris = load_iris()\n",
    "X, y = iris.data, iris.target\n",
    "X_train, X_test, y_train, y_test = train_test_split(X, y)\n",
    "\n",
    "# train a model\n",
    "model = LogisticRegression(max_iter=5000)\n",
    "model.fit(X_train, y_train)\n",
    "\n",
    "# convert the model to ONNX\n",
    "initial_types = [\n",
    "  ('input', FloatTensorType([None, 4]))\n",
    "]\n",
    "\n",
    "onnx_model = convert_sklearn(model, initial_types=initial_types)\n",
    "\n",
    "# save the model\n",
    "with open(\"iris.onnx\", \"wb\") as f:\n",
    "  f.write(onnx_model.SerializeToString())"
   ]
  },
  {
   "cell_type": "code",
   "execution_count": 11,
   "id": "interested-pregnancy",
   "metadata": {},
   "outputs": [],
   "source": [
    "model = open('./iris.onnx', 'rb').read()"
   ]
  },
  {
   "cell_type": "code",
   "execution_count": 13,
   "id": "authorized-movement",
   "metadata": {
    "scrolled": true
   },
   "outputs": [
    {
     "data": {
      "text/plain": [
       "'OK'"
      ]
     },
     "execution_count": 13,
     "metadata": {},
     "output_type": "execute_result"
    }
   ],
   "source": [
    "con.modelset(key=\"onnx_model\", backend='ONNX', device='CPU', data=model, outputs=['classes', 'confidence'])"
   ]
  },
  {
   "cell_type": "code",
   "execution_count": 14,
   "id": "optical-spring",
   "metadata": {},
   "outputs": [
    {
     "name": "stderr",
     "output_type": "stream",
     "text": [
      "/home/kkalyagina/anaconda3/envs/redisai/lib/python3.7/site-packages/redisai/client.py:336: UserWarning: Experimental: Model List API is experimental and might change in the future without any notice\n",
      "  \"in the future without any notice\", UserWarning)\n"
     ]
    },
    {
     "data": {
      "text/plain": [
       "[['onnx_model', '']]"
      ]
     },
     "execution_count": 14,
     "metadata": {},
     "output_type": "execute_result"
    }
   ],
   "source": [
    "con.modelscan()"
   ]
  },
  {
   "cell_type": "code",
   "execution_count": 15,
   "id": "demanding-azerbaijan",
   "metadata": {},
   "outputs": [
    {
     "data": {
      "text/plain": [
       "'OK'"
      ]
     },
     "execution_count": 15,
     "metadata": {},
     "output_type": "execute_result"
    }
   ],
   "source": [
    "con.tensorset(key=\"input\", tensor=[5.0, 3.4, 1.6, 0.4, 6.0, 2.2, 5.0, 1.5], shape=[2,4], dtype='float')"
   ]
  },
  {
   "cell_type": "code",
   "execution_count": 16,
   "id": "strong-framing",
   "metadata": {},
   "outputs": [
    {
     "data": {
      "text/plain": [
       "array([[5. , 3.4, 1.6, 0.4],\n",
       "       [6. , 2.2, 5. , 1.5]], dtype=float32)"
      ]
     },
     "execution_count": 16,
     "metadata": {},
     "output_type": "execute_result"
    }
   ],
   "source": [
    "con.tensorget(key='input')"
   ]
  },
  {
   "cell_type": "code",
   "execution_count": 17,
   "id": "damaged-surrey",
   "metadata": {},
   "outputs": [
    {
     "data": {
      "text/plain": [
       "{'dtype': 'FLOAT', 'shape': [2, 4]}"
      ]
     },
     "execution_count": 17,
     "metadata": {},
     "output_type": "execute_result"
    }
   ],
   "source": [
    "con.tensorget(key='input', meta_only=True)"
   ]
  },
  {
   "cell_type": "code",
   "execution_count": 18,
   "id": "prescribed-jungle",
   "metadata": {},
   "outputs": [
    {
     "data": {
      "text/plain": [
       "{'dtype': 'FLOAT',\n",
       " 'shape': [2, 4],\n",
       " 'values': [5.0,\n",
       "  3.4000000953674316,\n",
       "  1.600000023841858,\n",
       "  0.4000000059604645,\n",
       "  6.0,\n",
       "  2.200000047683716,\n",
       "  5.0,\n",
       "  1.5]}"
      ]
     },
     "execution_count": 18,
     "metadata": {},
     "output_type": "execute_result"
    }
   ],
   "source": [
    "con.tensorget(key='input', as_numpy=False)"
   ]
  },
  {
   "cell_type": "code",
   "execution_count": 19,
   "id": "skilled-photograph",
   "metadata": {},
   "outputs": [
    {
     "data": {
      "text/plain": [
       "'OK'"
      ]
     },
     "execution_count": 19,
     "metadata": {},
     "output_type": "execute_result"
    }
   ],
   "source": [
    "con.modelrun(key=\"onnx_model\", inputs=\"input\", outputs=['class', 'confidence'])"
   ]
  },
  {
   "cell_type": "code",
   "execution_count": 20,
   "id": "amended-headquarters",
   "metadata": {},
   "outputs": [
    {
     "data": {
      "text/plain": [
       "array([0, 2])"
      ]
     },
     "execution_count": 20,
     "metadata": {},
     "output_type": "execute_result"
    }
   ],
   "source": [
    "con.tensorget(key='class')"
   ]
  },
  {
   "cell_type": "code",
   "execution_count": 21,
   "id": "assigned-kitty",
   "metadata": {},
   "outputs": [
    {
     "data": {
      "text/plain": [
       "{'dtype': 'INT64', 'shape': [2]}"
      ]
     },
     "execution_count": 21,
     "metadata": {},
     "output_type": "execute_result"
    }
   ],
   "source": [
    "con.tensorget(key='class', as_numpy=True, meta_only=True)"
   ]
  },
  {
   "cell_type": "code",
   "execution_count": 23,
   "id": "active-jones",
   "metadata": {},
   "outputs": [
    {
     "data": {
      "text/plain": [
       "0"
      ]
     },
     "execution_count": 23,
     "metadata": {},
     "output_type": "execute_result"
    }
   ],
   "source": [
    "con.tensorset(key='predict', tensor=[5.0, 3.4, 1.6, 0.4], shape=[1,4], dtype='float')\n",
    "con.modelrun(key='onnx_model', inputs='predict', outputs=['class', 'confidence'])\n",
    "con.tensorget(key='class')[0]"
   ]
  },
  {
   "cell_type": "code",
   "execution_count": null,
   "id": "demanding-adaptation",
   "metadata": {},
   "outputs": [],
   "source": []
  },
  {
   "cell_type": "code",
   "execution_count": 11,
   "id": "freelance-genetics",
   "metadata": {
    "scrolled": true
   },
   "outputs": [],
   "source": []
  },
  {
   "cell_type": "code",
   "execution_count": null,
   "id": "premier-dollar",
   "metadata": {},
   "outputs": [],
   "source": []
  }
 ],
 "metadata": {
  "kernelspec": {
   "display_name": "Python 3",
   "language": "python",
   "name": "python3"
  },
  "language_info": {
   "codemirror_mode": {
    "name": "ipython",
    "version": 3
   },
   "file_extension": ".py",
   "mimetype": "text/x-python",
   "name": "python",
   "nbconvert_exporter": "python",
   "pygments_lexer": "ipython3",
   "version": "3.7.6"
  }
 },
 "nbformat": 4,
 "nbformat_minor": 5
}
